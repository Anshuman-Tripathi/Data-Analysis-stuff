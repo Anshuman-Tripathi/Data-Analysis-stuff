{
  "nbformat": 4,
  "nbformat_minor": 0,
  "metadata": {
    "colab": {
      "provenance": []
    },
    "kernelspec": {
      "name": "python3",
      "display_name": "Python 3"
    }
  },
  "cells": [
    {
      "cell_type": "markdown",
      "metadata": {
        "id": "VbwJRzlrx9O3"
      },
      "source": [
        "**INTRODUCTION**\n",
        "\n",
        "---\n",
        "\n"
      ]
    },
    {
      "cell_type": "markdown",
      "metadata": {
        "id": "Xb3L3vYffDUy"
      },
      "source": [
        "**[CLICK HERE](https://colab.research.google.com/drive/1Pgm8nz5kVPGuKP4ZV6NhP63Qz-hzNXS1?usp=sharing) for the same work on Google Colab.**\n",
        "\n",
        "Dataset used in this analysis contains 12,756 survey responses with 23 attributes describing how we live our lives. Most attribute names are self-explanatory, but to find the specific questions asked for each attribute one can go to the survey form itself.\n",
        "\n",
        "Here is the link to the survey :\n",
        "http://www.authentic-happiness.com/your-life-satisfaction-score\n",
        "\n",
        "Following 6 relationships will be looked into from the data:-\n",
        "1. BMI & DAILY INTAKE OF FRUITS AND VEGETABLES.\n",
        "2. BMI & DAILY STEPS WALKED\n",
        "3. DAILY STRESS & DAILY MEDITATION\n",
        "4. DAILY STRESS & SOCIAL NETWORK\n",
        "5. DAILY STRESS & SLEEPING HOURS\n",
        "6. SUFFICIENCY OF INCOME & DAILY TIME SPENT ON PASSION\n",
        "\n",
        "***Please note that this is just an Exploratory Analysis. So any correlation/relationship found here can not be taken as anything other than merely \"informative\" or \"interesting\". These can not be considered causal as the data is observational. For determining causation, we need Randomised Control Trials, with proper methodology defined in advance of data collection.***"
      ]
    },
    {
      "cell_type": "markdown",
      "metadata": {
        "id": "QDa9yJ46LGzj"
      },
      "source": [
        "**FETCHING & CLEANING THE DATA**\n",
        "\n",
        "---\n",
        "\n"
      ]
    },
    {
      "cell_type": "code",
      "metadata": {
        "id": "15OU7PFae_hx",
        "colab": {
          "base_uri": "https://localhost:8080/",
          "height": 343
        },
        "outputId": "7f8f6445-d6b3-4872-ffd6-bc543520d64e"
      },
      "source": [
        "import pandas as pd\n",
        "import seaborn as sns\n",
        "import matplotlib.pyplot as plt\n",
        "url = 'https://raw.githubusercontent.com/Anshuman-Tripathi/Data-Explainers-and-Projects/master/EDA_on_Well_Being_Data/Wellbeing_and_lifestyle_data.csv'\n",
        "df = pd.read_csv(url)\n",
        "df.head()"
      ],
      "execution_count": null,
      "outputs": [
        {
          "output_type": "stream",
          "text": [
            "/usr/local/lib/python3.6/dist-packages/statsmodels/tools/_testing.py:19: FutureWarning: pandas.util.testing is deprecated. Use the functions in the public API at pandas.testing instead.\n",
            "  import pandas.util.testing as tm\n"
          ],
          "name": "stderr"
        },
        {
          "output_type": "execute_result",
          "data": {
            "text/html": [
              "<div>\n",
              "<style scoped>\n",
              "    .dataframe tbody tr th:only-of-type {\n",
              "        vertical-align: middle;\n",
              "    }\n",
              "\n",
              "    .dataframe tbody tr th {\n",
              "        vertical-align: top;\n",
              "    }\n",
              "\n",
              "    .dataframe thead th {\n",
              "        text-align: right;\n",
              "    }\n",
              "</style>\n",
              "<table border=\"1\" class=\"dataframe\">\n",
              "  <thead>\n",
              "    <tr style=\"text-align: right;\">\n",
              "      <th></th>\n",
              "      <th>Timestamp</th>\n",
              "      <th>FRUITS_VEGGIES</th>\n",
              "      <th>DAILY_STRESS</th>\n",
              "      <th>PLACES_VISITED</th>\n",
              "      <th>CORE_CIRCLE</th>\n",
              "      <th>SUPPORTING_OTHERS</th>\n",
              "      <th>SOCIAL_NETWORK</th>\n",
              "      <th>ACHIEVEMENT</th>\n",
              "      <th>DONATION</th>\n",
              "      <th>BMI_RANGE</th>\n",
              "      <th>TODO_COMPLETED</th>\n",
              "      <th>FLOW</th>\n",
              "      <th>DAILY_STEPS</th>\n",
              "      <th>LIVE_VISION</th>\n",
              "      <th>SLEEP_HOURS</th>\n",
              "      <th>LOST_VACATION</th>\n",
              "      <th>DAILY_SHOUTING</th>\n",
              "      <th>SUFFICIENT_INCOME</th>\n",
              "      <th>PERSONAL_AWARDS</th>\n",
              "      <th>TIME_FOR_PASSION</th>\n",
              "      <th>DAILY_MEDITATION</th>\n",
              "      <th>AGE</th>\n",
              "      <th>GENDER</th>\n",
              "    </tr>\n",
              "  </thead>\n",
              "  <tbody>\n",
              "    <tr>\n",
              "      <th>0</th>\n",
              "      <td>07-07-15</td>\n",
              "      <td>3.0</td>\n",
              "      <td>2</td>\n",
              "      <td>2</td>\n",
              "      <td>5</td>\n",
              "      <td>0</td>\n",
              "      <td>5</td>\n",
              "      <td>2</td>\n",
              "      <td>0</td>\n",
              "      <td>1</td>\n",
              "      <td>6</td>\n",
              "      <td>4</td>\n",
              "      <td>5</td>\n",
              "      <td>0</td>\n",
              "      <td>7</td>\n",
              "      <td>5</td>\n",
              "      <td>5</td>\n",
              "      <td>1</td>\n",
              "      <td>4</td>\n",
              "      <td>0</td>\n",
              "      <td>5</td>\n",
              "      <td>36 to 50</td>\n",
              "      <td>Female</td>\n",
              "    </tr>\n",
              "    <tr>\n",
              "      <th>1</th>\n",
              "      <td>07-07-15</td>\n",
              "      <td>2.0</td>\n",
              "      <td>3</td>\n",
              "      <td>4</td>\n",
              "      <td>3</td>\n",
              "      <td>8</td>\n",
              "      <td>10</td>\n",
              "      <td>5</td>\n",
              "      <td>2</td>\n",
              "      <td>2</td>\n",
              "      <td>5</td>\n",
              "      <td>2</td>\n",
              "      <td>5</td>\n",
              "      <td>5</td>\n",
              "      <td>8</td>\n",
              "      <td>2</td>\n",
              "      <td>2</td>\n",
              "      <td>2</td>\n",
              "      <td>3</td>\n",
              "      <td>2</td>\n",
              "      <td>6</td>\n",
              "      <td>36 to 50</td>\n",
              "      <td>Female</td>\n",
              "    </tr>\n",
              "    <tr>\n",
              "      <th>2</th>\n",
              "      <td>07-07-15</td>\n",
              "      <td>2.0</td>\n",
              "      <td>3</td>\n",
              "      <td>3</td>\n",
              "      <td>4</td>\n",
              "      <td>4</td>\n",
              "      <td>10</td>\n",
              "      <td>3</td>\n",
              "      <td>2</td>\n",
              "      <td>2</td>\n",
              "      <td>2</td>\n",
              "      <td>2</td>\n",
              "      <td>4</td>\n",
              "      <td>5</td>\n",
              "      <td>8</td>\n",
              "      <td>10</td>\n",
              "      <td>2</td>\n",
              "      <td>2</td>\n",
              "      <td>4</td>\n",
              "      <td>8</td>\n",
              "      <td>3</td>\n",
              "      <td>36 to 50</td>\n",
              "      <td>Female</td>\n",
              "    </tr>\n",
              "    <tr>\n",
              "      <th>3</th>\n",
              "      <td>07-07-15</td>\n",
              "      <td>3.0</td>\n",
              "      <td>3</td>\n",
              "      <td>10</td>\n",
              "      <td>3</td>\n",
              "      <td>10</td>\n",
              "      <td>7</td>\n",
              "      <td>2</td>\n",
              "      <td>5</td>\n",
              "      <td>2</td>\n",
              "      <td>3</td>\n",
              "      <td>5</td>\n",
              "      <td>5</td>\n",
              "      <td>0</td>\n",
              "      <td>5</td>\n",
              "      <td>7</td>\n",
              "      <td>5</td>\n",
              "      <td>1</td>\n",
              "      <td>5</td>\n",
              "      <td>2</td>\n",
              "      <td>0</td>\n",
              "      <td>51 or more</td>\n",
              "      <td>Female</td>\n",
              "    </tr>\n",
              "    <tr>\n",
              "      <th>4</th>\n",
              "      <td>07-07-15</td>\n",
              "      <td>5.0</td>\n",
              "      <td>1</td>\n",
              "      <td>3</td>\n",
              "      <td>3</td>\n",
              "      <td>10</td>\n",
              "      <td>4</td>\n",
              "      <td>2</td>\n",
              "      <td>4</td>\n",
              "      <td>2</td>\n",
              "      <td>5</td>\n",
              "      <td>0</td>\n",
              "      <td>5</td>\n",
              "      <td>0</td>\n",
              "      <td>7</td>\n",
              "      <td>0</td>\n",
              "      <td>0</td>\n",
              "      <td>2</td>\n",
              "      <td>8</td>\n",
              "      <td>1</td>\n",
              "      <td>5</td>\n",
              "      <td>51 or more</td>\n",
              "      <td>Female</td>\n",
              "    </tr>\n",
              "  </tbody>\n",
              "</table>\n",
              "</div>"
            ],
            "text/plain": [
              "  Timestamp  FRUITS_VEGGIES DAILY_STRESS  ...  DAILY_MEDITATION         AGE  GENDER\n",
              "0  07-07-15             3.0            2  ...                 5    36 to 50  Female\n",
              "1  07-07-15             2.0            3  ...                 6    36 to 50  Female\n",
              "2  07-07-15             2.0            3  ...                 3    36 to 50  Female\n",
              "3  07-07-15             3.0            3  ...                 0  51 or more  Female\n",
              "4  07-07-15             5.0            1  ...                 5  51 or more  Female\n",
              "\n",
              "[5 rows x 23 columns]"
            ]
          },
          "metadata": {
            "tags": []
          },
          "execution_count": 1
        }
      ]
    },
    {
      "cell_type": "markdown",
      "metadata": {
        "id": "FvsNpAMu_nXV"
      },
      "source": [
        "The BMI_RANGE column needs to have its values changed from *1* and *2* to *Below 25* and *Above 25*, respectively.\n",
        "\n",
        "The SUFFICIENT_INCOME column needs to have its values from *1* and *2* to *Not Sufficient* and *Sufficient*, respectivley."
      ]
    },
    {
      "cell_type": "code",
      "metadata": {
        "id": "OAaWLh33Ao6y",
        "colab": {
          "base_uri": "https://localhost:8080/",
          "height": 235
        },
        "outputId": "28891156-ec26-4270-aa4a-53271eaa15d5"
      },
      "source": [
        "# Replacing values\n",
        "df['BMI_RANGE'].replace(1,'Below 25',inplace=True)\n",
        "df['BMI_RANGE'].replace(2,'Above 25',inplace=True)\n",
        "df['SUFFICIENT_INCOME'].replace(1,'Not Sufficient',inplace=True)\n",
        "df['SUFFICIENT_INCOME'].replace(2,'Sufficient',inplace=True)\n",
        "df.loc[0:5,('BMI_RANGE','SUFFICIENT_INCOME')]"
      ],
      "execution_count": null,
      "outputs": [
        {
          "output_type": "execute_result",
          "data": {
            "text/html": [
              "<div>\n",
              "<style scoped>\n",
              "    .dataframe tbody tr th:only-of-type {\n",
              "        vertical-align: middle;\n",
              "    }\n",
              "\n",
              "    .dataframe tbody tr th {\n",
              "        vertical-align: top;\n",
              "    }\n",
              "\n",
              "    .dataframe thead th {\n",
              "        text-align: right;\n",
              "    }\n",
              "</style>\n",
              "<table border=\"1\" class=\"dataframe\">\n",
              "  <thead>\n",
              "    <tr style=\"text-align: right;\">\n",
              "      <th></th>\n",
              "      <th>BMI_RANGE</th>\n",
              "      <th>SUFFICIENT_INCOME</th>\n",
              "    </tr>\n",
              "  </thead>\n",
              "  <tbody>\n",
              "    <tr>\n",
              "      <th>0</th>\n",
              "      <td>Below 25</td>\n",
              "      <td>Not Sufficient</td>\n",
              "    </tr>\n",
              "    <tr>\n",
              "      <th>1</th>\n",
              "      <td>Above 25</td>\n",
              "      <td>Sufficient</td>\n",
              "    </tr>\n",
              "    <tr>\n",
              "      <th>2</th>\n",
              "      <td>Above 25</td>\n",
              "      <td>Sufficient</td>\n",
              "    </tr>\n",
              "    <tr>\n",
              "      <th>3</th>\n",
              "      <td>Above 25</td>\n",
              "      <td>Not Sufficient</td>\n",
              "    </tr>\n",
              "    <tr>\n",
              "      <th>4</th>\n",
              "      <td>Above 25</td>\n",
              "      <td>Sufficient</td>\n",
              "    </tr>\n",
              "    <tr>\n",
              "      <th>5</th>\n",
              "      <td>Below 25</td>\n",
              "      <td>Sufficient</td>\n",
              "    </tr>\n",
              "  </tbody>\n",
              "</table>\n",
              "</div>"
            ],
            "text/plain": [
              "  BMI_RANGE SUFFICIENT_INCOME\n",
              "0  Below 25    Not Sufficient\n",
              "1  Above 25        Sufficient\n",
              "2  Above 25        Sufficient\n",
              "3  Above 25    Not Sufficient\n",
              "4  Above 25        Sufficient\n",
              "5  Below 25        Sufficient"
            ]
          },
          "metadata": {
            "tags": []
          },
          "execution_count": 2
        }
      ]
    },
    {
      "cell_type": "code",
      "metadata": {
        "id": "CHJJ9_g68q3M",
        "colab": {
          "base_uri": "https://localhost:8080/",
          "height": 527
        },
        "outputId": "c2c774a6-9982-45e9-e036-a19be83a3d8e"
      },
      "source": [
        "# Summary of the data\n",
        "df.info()"
      ],
      "execution_count": null,
      "outputs": [
        {
          "output_type": "stream",
          "text": [
            "<class 'pandas.core.frame.DataFrame'>\n",
            "RangeIndex: 12756 entries, 0 to 12755\n",
            "Data columns (total 23 columns):\n",
            " #   Column             Non-Null Count  Dtype  \n",
            "---  ------             --------------  -----  \n",
            " 0   Timestamp          12756 non-null  object \n",
            " 1   FRUITS_VEGGIES     12640 non-null  float64\n",
            " 2   DAILY_STRESS       12630 non-null  object \n",
            " 3   PLACES_VISITED     12756 non-null  int64  \n",
            " 4   CORE_CIRCLE        12756 non-null  int64  \n",
            " 5   SUPPORTING_OTHERS  12756 non-null  int64  \n",
            " 6   SOCIAL_NETWORK     12756 non-null  int64  \n",
            " 7   ACHIEVEMENT        12756 non-null  int64  \n",
            " 8   DONATION           12756 non-null  int64  \n",
            " 9   BMI_RANGE          12756 non-null  object \n",
            " 10  TODO_COMPLETED     12756 non-null  int64  \n",
            " 11  FLOW               12756 non-null  int64  \n",
            " 12  DAILY_STEPS        12756 non-null  int64  \n",
            " 13  LIVE_VISION        12756 non-null  int64  \n",
            " 14  SLEEP_HOURS        12756 non-null  int64  \n",
            " 15  LOST_VACATION      12756 non-null  int64  \n",
            " 16  DAILY_SHOUTING     12756 non-null  int64  \n",
            " 17  SUFFICIENT_INCOME  12756 non-null  object \n",
            " 18  PERSONAL_AWARDS    12756 non-null  int64  \n",
            " 19  TIME_FOR_PASSION   12756 non-null  int64  \n",
            " 20  DAILY_MEDITATION   12756 non-null  int64  \n",
            " 21  AGE                12756 non-null  object \n",
            " 22  GENDER             12655 non-null  object \n",
            "dtypes: float64(1), int64(16), object(6)\n",
            "memory usage: 2.2+ MB\n"
          ],
          "name": "stdout"
        }
      ]
    },
    {
      "cell_type": "markdown",
      "metadata": {
        "id": "xBhSmZpu-dZk"
      },
      "source": [
        "The coulmn 'DAILY_STRESS' needs to be numeric datatype but it is an 'object' datatype as can be seen above. Hence, there must be a value which is not integer or float. So we need to find unique values and their counts."
      ]
    },
    {
      "cell_type": "code",
      "metadata": {
        "id": "umR0wWyH_BQC",
        "colab": {
          "base_uri": "https://localhost:8080/",
          "height": 153
        },
        "outputId": "b9219d00-718f-49dd-b4d4-81f74160ea42"
      },
      "source": [
        "# Counting values in DAILY_STRESS columns\n",
        "df['DAILY_STRESS'].value_counts()"
      ],
      "execution_count": null,
      "outputs": [
        {
          "output_type": "execute_result",
          "data": {
            "text/plain": [
              "3           3493\n",
              "2           2673\n",
              "4           2297\n",
              "1           1976\n",
              "5           1630\n",
              "0            560\n",
              "01-01-00       1\n",
              "Name: DAILY_STRESS, dtype: int64"
            ]
          },
          "metadata": {
            "tags": []
          },
          "execution_count": 4
        }
      ]
    },
    {
      "cell_type": "markdown",
      "metadata": {
        "id": "tzjAo5e9_JOg"
      },
      "source": [
        "value *01-01-00* does not belong in the DAILY_STRESS column and needs to be changed. The mode of the data will be used for replacement, which is *3*."
      ]
    },
    {
      "cell_type": "code",
      "metadata": {
        "id": "wBPN_Z5p_YDa",
        "colab": {
          "base_uri": "https://localhost:8080/",
          "height": 153
        },
        "outputId": "fc14cd68-97d7-4db8-ffd9-82ecaa691bd7"
      },
      "source": [
        "# Replacing value\n",
        "df['DAILY_STRESS'].replace('01-01-00',3,inplace=True)\n",
        "df['DAILY_STRESS'].value_counts()"
      ],
      "execution_count": null,
      "outputs": [
        {
          "output_type": "execute_result",
          "data": {
            "text/plain": [
              "3    3493\n",
              "2    2673\n",
              "4    2297\n",
              "1    1976\n",
              "5    1630\n",
              "0     560\n",
              "3       1\n",
              "Name: DAILY_STRESS, dtype: int64"
            ]
          },
          "metadata": {
            "tags": []
          },
          "execution_count": 5
        }
      ]
    },
    {
      "cell_type": "markdown",
      "metadata": {
        "id": "tDt1iROJs6-k"
      },
      "source": [
        "The value *01-01-00* has been replaced by *3* in the column DAILY_STRESS. But the column will still be of object data type and we can convert it to int64 only after replacing its null values.  "
      ]
    },
    {
      "cell_type": "code",
      "metadata": {
        "id": "4zPkN_vuk9mO",
        "colab": {
          "base_uri": "https://localhost:8080/",
          "height": 425
        },
        "outputId": "d3163a51-dcf0-4fee-b2ba-5eb936015829"
      },
      "source": [
        "#Counting null-values in each column\n",
        "df.isna().sum()"
      ],
      "execution_count": null,
      "outputs": [
        {
          "output_type": "execute_result",
          "data": {
            "text/plain": [
              "Timestamp              0\n",
              "FRUITS_VEGGIES       116\n",
              "DAILY_STRESS         126\n",
              "PLACES_VISITED         0\n",
              "CORE_CIRCLE            0\n",
              "SUPPORTING_OTHERS      0\n",
              "SOCIAL_NETWORK         0\n",
              "ACHIEVEMENT            0\n",
              "DONATION               0\n",
              "BMI_RANGE              0\n",
              "TODO_COMPLETED         0\n",
              "FLOW                   0\n",
              "DAILY_STEPS            0\n",
              "LIVE_VISION            0\n",
              "SLEEP_HOURS            0\n",
              "LOST_VACATION          0\n",
              "DAILY_SHOUTING         0\n",
              "SUFFICIENT_INCOME      0\n",
              "PERSONAL_AWARDS        0\n",
              "TIME_FOR_PASSION       0\n",
              "DAILY_MEDITATION       0\n",
              "AGE                    0\n",
              "GENDER               101\n",
              "dtype: int64"
            ]
          },
          "metadata": {
            "tags": []
          },
          "execution_count": 6
        }
      ]
    },
    {
      "cell_type": "markdown",
      "metadata": {
        "id": "NnC2wkrt8Cnm"
      },
      "source": [
        "As can be seen above, there are missing values in 'FRUITS_VEGGIES', 'DAILY_STRESS', and 'GENDER columns. These missing values need imputation.\n",
        "\n",
        "Since all these columns take discrete values, their missing values can be imputed with their modes, which is the value with highest frequecy of occurence."
      ]
    },
    {
      "cell_type": "code",
      "metadata": {
        "id": "YLptW4BG8Z0J",
        "colab": {
          "base_uri": "https://localhost:8080/",
          "height": 102
        },
        "outputId": "f0bd0ab8-06a4-43f5-988e-f934732895f0"
      },
      "source": [
        "# Finding modes of columns for filling null-values\n",
        "a = df['DAILY_STRESS'].value_counts().index[0]\n",
        "b = df['FRUITS_VEGGIES'].value_counts().index[0]\n",
        "c = df['GENDER'].value_counts().index[0]\n",
        "print(\"DAILY_STRESS mode     =\",a,'\\n')\n",
        "print(\"FRUITS_VEGGIES mode   =\",b,'\\n')\n",
        "print(\"GENDER mode           =\",c)"
      ],
      "execution_count": null,
      "outputs": [
        {
          "output_type": "stream",
          "text": [
            "DAILY_STRESS mode     = 3 \n",
            "\n",
            "FRUITS_VEGGIES mode   = 3.0 \n",
            "\n",
            "GENDER mode           = Female\n"
          ],
          "name": "stdout"
        }
      ]
    },
    {
      "cell_type": "code",
      "metadata": {
        "id": "lggqbj6xr1uW",
        "colab": {
          "base_uri": "https://localhost:8080/",
          "height": 425
        },
        "outputId": "86192555-588e-4edf-de80-8f03879e7ecd"
      },
      "source": [
        "# Filling null-values\n",
        "df['DAILY_STRESS'].fillna(a,inplace=True)\n",
        "df['FRUITS_VEGGIES'].fillna(b,inplace=True)\n",
        "df['GENDER'].fillna(c,inplace=True)\n",
        "df.isna().sum()"
      ],
      "execution_count": null,
      "outputs": [
        {
          "output_type": "execute_result",
          "data": {
            "text/plain": [
              "Timestamp            0\n",
              "FRUITS_VEGGIES       0\n",
              "DAILY_STRESS         0\n",
              "PLACES_VISITED       0\n",
              "CORE_CIRCLE          0\n",
              "SUPPORTING_OTHERS    0\n",
              "SOCIAL_NETWORK       0\n",
              "ACHIEVEMENT          0\n",
              "DONATION             0\n",
              "BMI_RANGE            0\n",
              "TODO_COMPLETED       0\n",
              "FLOW                 0\n",
              "DAILY_STEPS          0\n",
              "LIVE_VISION          0\n",
              "SLEEP_HOURS          0\n",
              "LOST_VACATION        0\n",
              "DAILY_SHOUTING       0\n",
              "SUFFICIENT_INCOME    0\n",
              "PERSONAL_AWARDS      0\n",
              "TIME_FOR_PASSION     0\n",
              "DAILY_MEDITATION     0\n",
              "AGE                  0\n",
              "GENDER               0\n",
              "dtype: int64"
            ]
          },
          "metadata": {
            "tags": []
          },
          "execution_count": 8
        }
      ]
    },
    {
      "cell_type": "markdown",
      "metadata": {
        "id": "b9A1xmqIsWcq"
      },
      "source": [
        "As can be seen above, there are no missing values in any of the columns. Missing values of DAILY_STRESS, FRUITS_VEGGIES, and GENDER columns have been imputed with their respective modes.\n",
        "\n",
        "Now we can convert the DAILY_STRESS column to int64 datatype from object datatype."
      ]
    },
    {
      "cell_type": "code",
      "metadata": {
        "id": "YVw1LGsBtwW4",
        "colab": {
          "base_uri": "https://localhost:8080/",
          "height": 527
        },
        "outputId": "3e35584d-27cb-48fd-9e6b-f30d018cbf57"
      },
      "source": [
        "# Converting datatype\n",
        "df['DAILY_STRESS'] = df['DAILY_STRESS'].astype('int64')\n",
        "df.info()"
      ],
      "execution_count": null,
      "outputs": [
        {
          "output_type": "stream",
          "text": [
            "<class 'pandas.core.frame.DataFrame'>\n",
            "RangeIndex: 12756 entries, 0 to 12755\n",
            "Data columns (total 23 columns):\n",
            " #   Column             Non-Null Count  Dtype  \n",
            "---  ------             --------------  -----  \n",
            " 0   Timestamp          12756 non-null  object \n",
            " 1   FRUITS_VEGGIES     12756 non-null  float64\n",
            " 2   DAILY_STRESS       12756 non-null  int64  \n",
            " 3   PLACES_VISITED     12756 non-null  int64  \n",
            " 4   CORE_CIRCLE        12756 non-null  int64  \n",
            " 5   SUPPORTING_OTHERS  12756 non-null  int64  \n",
            " 6   SOCIAL_NETWORK     12756 non-null  int64  \n",
            " 7   ACHIEVEMENT        12756 non-null  int64  \n",
            " 8   DONATION           12756 non-null  int64  \n",
            " 9   BMI_RANGE          12756 non-null  object \n",
            " 10  TODO_COMPLETED     12756 non-null  int64  \n",
            " 11  FLOW               12756 non-null  int64  \n",
            " 12  DAILY_STEPS        12756 non-null  int64  \n",
            " 13  LIVE_VISION        12756 non-null  int64  \n",
            " 14  SLEEP_HOURS        12756 non-null  int64  \n",
            " 15  LOST_VACATION      12756 non-null  int64  \n",
            " 16  DAILY_SHOUTING     12756 non-null  int64  \n",
            " 17  SUFFICIENT_INCOME  12756 non-null  object \n",
            " 18  PERSONAL_AWARDS    12756 non-null  int64  \n",
            " 19  TIME_FOR_PASSION   12756 non-null  int64  \n",
            " 20  DAILY_MEDITATION   12756 non-null  int64  \n",
            " 21  AGE                12756 non-null  object \n",
            " 22  GENDER             12756 non-null  object \n",
            "dtypes: float64(1), int64(17), object(5)\n",
            "memory usage: 2.2+ MB\n"
          ],
          "name": "stdout"
        }
      ]
    },
    {
      "cell_type": "markdown",
      "metadata": {
        "id": "USYrkAxAvZTm"
      },
      "source": [
        "As can be seen above, there are no missing values in any of the columns and all the columns are of legitimate datatype."
      ]
    },
    {
      "cell_type": "markdown",
      "metadata": {
        "id": "ZIC6Ix2_i_TU"
      },
      "source": [
        "**ANALYSIS & VISUALIZATION**\n",
        "\n",
        "---\n",
        "\n"
      ]
    },
    {
      "cell_type": "code",
      "metadata": {
        "id": "ADk9tAU1vm5Z",
        "colab": {
          "base_uri": "https://localhost:8080/",
          "height": 289
        },
        "outputId": "92ca8fac-bdf4-4195-c45d-477d1e411d1c"
      },
      "source": [
        "# Descriptive statistics\n",
        "print(\"DESCRIPTIVE STATS OF ALL COLUMNS WITH NUMERIC DATATYPES:\\n\")\n",
        "df.describe(percentiles=[0.5],exclude='object')"
      ],
      "execution_count": null,
      "outputs": [
        {
          "output_type": "stream",
          "text": [
            "DESCRIPTIVE STATS OF ALL COLUMNS WITH NUMERIC DATATYPES:\n",
            "\n"
          ],
          "name": "stdout"
        },
        {
          "output_type": "execute_result",
          "data": {
            "text/html": [
              "<div>\n",
              "<style scoped>\n",
              "    .dataframe tbody tr th:only-of-type {\n",
              "        vertical-align: middle;\n",
              "    }\n",
              "\n",
              "    .dataframe tbody tr th {\n",
              "        vertical-align: top;\n",
              "    }\n",
              "\n",
              "    .dataframe thead th {\n",
              "        text-align: right;\n",
              "    }\n",
              "</style>\n",
              "<table border=\"1\" class=\"dataframe\">\n",
              "  <thead>\n",
              "    <tr style=\"text-align: right;\">\n",
              "      <th></th>\n",
              "      <th>FRUITS_VEGGIES</th>\n",
              "      <th>DAILY_STRESS</th>\n",
              "      <th>PLACES_VISITED</th>\n",
              "      <th>CORE_CIRCLE</th>\n",
              "      <th>SUPPORTING_OTHERS</th>\n",
              "      <th>SOCIAL_NETWORK</th>\n",
              "      <th>ACHIEVEMENT</th>\n",
              "      <th>DONATION</th>\n",
              "      <th>TODO_COMPLETED</th>\n",
              "      <th>FLOW</th>\n",
              "      <th>DAILY_STEPS</th>\n",
              "      <th>LIVE_VISION</th>\n",
              "      <th>SLEEP_HOURS</th>\n",
              "      <th>LOST_VACATION</th>\n",
              "      <th>DAILY_SHOUTING</th>\n",
              "      <th>PERSONAL_AWARDS</th>\n",
              "      <th>TIME_FOR_PASSION</th>\n",
              "      <th>DAILY_MEDITATION</th>\n",
              "    </tr>\n",
              "  </thead>\n",
              "  <tbody>\n",
              "    <tr>\n",
              "      <th>count</th>\n",
              "      <td>12756.000000</td>\n",
              "      <td>12756.000000</td>\n",
              "      <td>12756.000000</td>\n",
              "      <td>12756.000000</td>\n",
              "      <td>12756.000000</td>\n",
              "      <td>12756.000000</td>\n",
              "      <td>12756.000000</td>\n",
              "      <td>12756.000000</td>\n",
              "      <td>12756.000000</td>\n",
              "      <td>12756.000000</td>\n",
              "      <td>12756.000000</td>\n",
              "      <td>12756.000000</td>\n",
              "      <td>12756.000000</td>\n",
              "      <td>12756.000000</td>\n",
              "      <td>12756.000000</td>\n",
              "      <td>12756.000000</td>\n",
              "      <td>12756.000000</td>\n",
              "      <td>12756.000000</td>\n",
              "    </tr>\n",
              "    <tr>\n",
              "      <th>mean</th>\n",
              "      <td>2.931170</td>\n",
              "      <td>2.784572</td>\n",
              "      <td>5.338899</td>\n",
              "      <td>5.484635</td>\n",
              "      <td>5.577767</td>\n",
              "      <td>6.551427</td>\n",
              "      <td>3.963311</td>\n",
              "      <td>2.700925</td>\n",
              "      <td>5.706256</td>\n",
              "      <td>3.126764</td>\n",
              "      <td>5.704845</td>\n",
              "      <td>3.711979</td>\n",
              "      <td>7.035121</td>\n",
              "      <td>2.833098</td>\n",
              "      <td>2.920508</td>\n",
              "      <td>5.702963</td>\n",
              "      <td>3.266855</td>\n",
              "      <td>6.252822</td>\n",
              "    </tr>\n",
              "    <tr>\n",
              "      <th>std</th>\n",
              "      <td>1.444316</td>\n",
              "      <td>1.367197</td>\n",
              "      <td>3.314035</td>\n",
              "      <td>2.851588</td>\n",
              "      <td>3.262486</td>\n",
              "      <td>3.083920</td>\n",
              "      <td>2.752040</td>\n",
              "      <td>1.863933</td>\n",
              "      <td>2.633266</td>\n",
              "      <td>2.334881</td>\n",
              "      <td>2.885340</td>\n",
              "      <td>3.244291</td>\n",
              "      <td>1.202189</td>\n",
              "      <td>3.672006</td>\n",
              "      <td>2.689751</td>\n",
              "      <td>3.108637</td>\n",
              "      <td>2.721427</td>\n",
              "      <td>3.034980</td>\n",
              "    </tr>\n",
              "    <tr>\n",
              "      <th>min</th>\n",
              "      <td>0.000000</td>\n",
              "      <td>0.000000</td>\n",
              "      <td>0.000000</td>\n",
              "      <td>0.000000</td>\n",
              "      <td>0.000000</td>\n",
              "      <td>0.000000</td>\n",
              "      <td>0.000000</td>\n",
              "      <td>0.000000</td>\n",
              "      <td>0.000000</td>\n",
              "      <td>0.000000</td>\n",
              "      <td>1.000000</td>\n",
              "      <td>0.000000</td>\n",
              "      <td>1.000000</td>\n",
              "      <td>0.000000</td>\n",
              "      <td>0.000000</td>\n",
              "      <td>0.000000</td>\n",
              "      <td>0.000000</td>\n",
              "      <td>0.000000</td>\n",
              "    </tr>\n",
              "    <tr>\n",
              "      <th>50%</th>\n",
              "      <td>3.000000</td>\n",
              "      <td>3.000000</td>\n",
              "      <td>5.000000</td>\n",
              "      <td>5.000000</td>\n",
              "      <td>5.000000</td>\n",
              "      <td>6.000000</td>\n",
              "      <td>3.000000</td>\n",
              "      <td>3.000000</td>\n",
              "      <td>6.000000</td>\n",
              "      <td>3.000000</td>\n",
              "      <td>5.000000</td>\n",
              "      <td>3.000000</td>\n",
              "      <td>7.000000</td>\n",
              "      <td>0.000000</td>\n",
              "      <td>2.000000</td>\n",
              "      <td>5.000000</td>\n",
              "      <td>2.000000</td>\n",
              "      <td>7.000000</td>\n",
              "    </tr>\n",
              "    <tr>\n",
              "      <th>max</th>\n",
              "      <td>5.000000</td>\n",
              "      <td>5.000000</td>\n",
              "      <td>10.000000</td>\n",
              "      <td>10.000000</td>\n",
              "      <td>10.000000</td>\n",
              "      <td>10.000000</td>\n",
              "      <td>10.000000</td>\n",
              "      <td>5.000000</td>\n",
              "      <td>10.000000</td>\n",
              "      <td>10.000000</td>\n",
              "      <td>10.000000</td>\n",
              "      <td>10.000000</td>\n",
              "      <td>10.000000</td>\n",
              "      <td>10.000000</td>\n",
              "      <td>10.000000</td>\n",
              "      <td>10.000000</td>\n",
              "      <td>10.000000</td>\n",
              "      <td>10.000000</td>\n",
              "    </tr>\n",
              "  </tbody>\n",
              "</table>\n",
              "</div>"
            ],
            "text/plain": [
              "       FRUITS_VEGGIES  DAILY_STRESS  ...  TIME_FOR_PASSION  DAILY_MEDITATION\n",
              "count    12756.000000  12756.000000  ...      12756.000000      12756.000000\n",
              "mean         2.931170      2.784572  ...          3.266855          6.252822\n",
              "std          1.444316      1.367197  ...          2.721427          3.034980\n",
              "min          0.000000      0.000000  ...          0.000000          0.000000\n",
              "50%          3.000000      3.000000  ...          2.000000          7.000000\n",
              "max          5.000000      5.000000  ...         10.000000         10.000000\n",
              "\n",
              "[6 rows x 18 columns]"
            ]
          },
          "metadata": {
            "tags": []
          },
          "execution_count": 10
        }
      ]
    },
    {
      "cell_type": "code",
      "metadata": {
        "id": "dUlq0OXZhAmn",
        "colab": {
          "base_uri": "https://localhost:8080/",
          "height": 207
        },
        "outputId": "6b3ab782-9911-4b90-e81c-dbe63704a15f"
      },
      "source": [
        "#Descriptive statistics\n",
        "# A new dataframe is created with only object datatype columns\n",
        "print(\"DESCRIPTIVE STATS OF ALL COLUMNS WITH OBJECT DATATYPE:\\n\")\n",
        "df4 = df.loc[:,('BMI_RANGE','SUFFICIENT_INCOME','AGE','GENDER')]\n",
        "df4.describe()"
      ],
      "execution_count": null,
      "outputs": [
        {
          "output_type": "stream",
          "text": [
            "DESCRIPTIVE STATS OF ALL COLUMNS WITH OBJECT DATATYPE:\n",
            "\n"
          ],
          "name": "stdout"
        },
        {
          "output_type": "execute_result",
          "data": {
            "text/html": [
              "<div>\n",
              "<style scoped>\n",
              "    .dataframe tbody tr th:only-of-type {\n",
              "        vertical-align: middle;\n",
              "    }\n",
              "\n",
              "    .dataframe tbody tr th {\n",
              "        vertical-align: top;\n",
              "    }\n",
              "\n",
              "    .dataframe thead th {\n",
              "        text-align: right;\n",
              "    }\n",
              "</style>\n",
              "<table border=\"1\" class=\"dataframe\">\n",
              "  <thead>\n",
              "    <tr style=\"text-align: right;\">\n",
              "      <th></th>\n",
              "      <th>BMI_RANGE</th>\n",
              "      <th>SUFFICIENT_INCOME</th>\n",
              "      <th>AGE</th>\n",
              "      <th>GENDER</th>\n",
              "    </tr>\n",
              "  </thead>\n",
              "  <tbody>\n",
              "    <tr>\n",
              "      <th>count</th>\n",
              "      <td>12756</td>\n",
              "      <td>12756</td>\n",
              "      <td>12756</td>\n",
              "      <td>12756</td>\n",
              "    </tr>\n",
              "    <tr>\n",
              "      <th>unique</th>\n",
              "      <td>2</td>\n",
              "      <td>2</td>\n",
              "      <td>4</td>\n",
              "      <td>2</td>\n",
              "    </tr>\n",
              "    <tr>\n",
              "      <th>top</th>\n",
              "      <td>Below 25</td>\n",
              "      <td>Sufficient</td>\n",
              "      <td>21 to 35</td>\n",
              "      <td>Female</td>\n",
              "    </tr>\n",
              "    <tr>\n",
              "      <th>freq</th>\n",
              "      <td>7644</td>\n",
              "      <td>9289</td>\n",
              "      <td>4899</td>\n",
              "      <td>7760</td>\n",
              "    </tr>\n",
              "  </tbody>\n",
              "</table>\n",
              "</div>"
            ],
            "text/plain": [
              "       BMI_RANGE SUFFICIENT_INCOME       AGE  GENDER\n",
              "count      12756             12756     12756   12756\n",
              "unique         2                 2         4       2\n",
              "top     Below 25        Sufficient  21 to 35  Female\n",
              "freq        7644              9289      4899    7760"
            ]
          },
          "metadata": {
            "tags": []
          },
          "execution_count": 11
        }
      ]
    },
    {
      "cell_type": "markdown",
      "metadata": {
        "id": "VfDBlncf2mwK"
      },
      "source": [
        "Since all attributes contain discrete values, I will be only using bar plots to represent them."
      ]
    },
    {
      "cell_type": "code",
      "metadata": {
        "id": "0N5ZSc7N4Dcb",
        "colab": {
          "base_uri": "https://localhost:8080/",
          "height": 313
        },
        "outputId": "1f8bfc47-d53f-481c-d47c-25d969130aca"
      },
      "source": [
        "# Visualization of steps people walk daily\n",
        "print(\"BAR PLOT OF DAILY_STEPS:\\n\")\n",
        "l = sns.countplot(x='DAILY_STEPS',data=df,palette='bone_r')\n",
        "plt.xlabel('DAILY STEPS (1=100 steps)')\n",
        "plt.show()"
      ],
      "execution_count": null,
      "outputs": [
        {
          "output_type": "stream",
          "text": [
            "BAR PLOT OF DAILY_STEPS:\n",
            "\n"
          ],
          "name": "stdout"
        },
        {
          "output_type": "display_data",
          "data": {
            "image/png": "[encoded data removed]",
            "text/plain": [
              "<Figure size 432x288 with 1 Axes>"
            ]
          },
          "metadata": {
            "tags": [],
            "needs_background": "light"
          }
        }
      ]
    },
    {
      "cell_type": "code",
      "metadata": {
        "id": "6_hKoQKE5-ZZ",
        "colab": {
          "base_uri": "https://localhost:8080/",
          "height": 313
        },
        "outputId": "20ba26ee-d9c9-47cb-9888-a820653cf2df"
      },
      "source": [
        "# Visualization of sufficiency of income\n",
        "print(\"BAR PLOT OF SUFFICIENT INCOME:\\n\")\n",
        "m = sns.countplot(y='SUFFICIENT_INCOME',data=df,palette='Greens',)"
      ],
      "execution_count": null,
      "outputs": [
        {
          "output_type": "stream",
          "text": [
            "BAR PLOT OF SUFFICIENT INCOME:\n",
            "\n"
          ],
          "name": "stdout"
        },
        {
          "output_type": "display_data",
          "data": {
            "image/png": "[encoded data removed]",
            "text/plain": [
              "<Figure size 432x288 with 1 Axes>"
            ]
          },
          "metadata": {
            "tags": [],
            "needs_background": "light"
          }
        }
      ]
    },
    {
      "cell_type": "code",
      "metadata": {
        "id": "jxZBDK5jCj5J",
        "colab": {
          "base_uri": "https://localhost:8080/",
          "height": 313
        },
        "outputId": "e56daa88-79b8-4318-83ff-5645e534d89a"
      },
      "source": [
        "# Visualization of fruits & vegitables people eat in a day\n",
        "print(\"BAR PLOT OF DAILY INTAKE OF FRUITS & VEGITABLES:\\n\")\n",
        "n = sns.countplot(y='FRUITS_VEGGIES',data=df,palette='autumn_r')"
      ],
      "execution_count": null,
      "outputs": [
        {
          "output_type": "stream",
          "text": [
            "BAR PLOT OF DAILY INTAKE OF FRUITS & VEGITABLES:\n",
            "\n"
          ],
          "name": "stdout"
        },
        {
          "output_type": "display_data",
          "data": {
            "image/png": "[encoded data removed]",
            "text/plain": [
              "<Figure size 432x288 with 1 Axes>"
            ]
          },
          "metadata": {
            "tags": [],
            "needs_background": "light"
          }
        }
      ]
    },
    {
      "cell_type": "code",
      "metadata": {
        "id": "tSdshWskEp_q",
        "colab": {
          "base_uri": "https://localhost:8080/",
          "height": 314
        },
        "outputId": "8024d172-2a4a-4d91-d39c-d18765cd634a"
      },
      "source": [
        "# Visualization of time people spend on their passion\n",
        "print(\"BAR PLOT OF TIME_FOR_PASSION:\\n\")\n",
        "p = sns.countplot(x='TIME_FOR_PASSION',data=df,palette='gist_earth')"
      ],
      "execution_count": null,
      "outputs": [
        {
          "output_type": "stream",
          "text": [
            "BAR PLOT OF TIME_FOR_PASSION:\n",
            "\n"
          ],
          "name": "stdout"
        },
        {
          "output_type": "display_data",
          "data": {
            "image/png": "[encoded data removed]",
            "text/plain": [
              "<Figure size 432x288 with 1 Axes>"
            ]
          },
          "metadata": {
            "tags": [],
            "needs_background": "light"
          }
        }
      ]
    },
    {
      "cell_type": "code",
      "metadata": {
        "id": "MYP843XGHWAH",
        "colab": {
          "base_uri": "https://localhost:8080/",
          "height": 313
        },
        "outputId": "ade69f6b-324c-4f71-a6da-c59dc518e972"
      },
      "source": [
        "# Visualization of social network of people\n",
        "print(\"BAR PLOT OF SOCIAL_NETWORK:\\n\")\n",
        "q = sns.countplot(x='SOCIAL_NETWORK',data=df,palette='copper')\n",
        "plt.xlabel('CLOSE PEOPLE TO RELY ON')\n",
        "plt.show()"
      ],
      "execution_count": null,
      "outputs": [
        {
          "output_type": "stream",
          "text": [
            "BAR PLOT OF SOCIAL_NETWORK:\n",
            "\n"
          ],
          "name": "stdout"
        },
        {
          "output_type": "display_data",
          "data": {
            "image/png": "[encoded data removed]",
            "text/plain": [
              "<Figure size 432x288 with 1 Axes>"
            ]
          },
          "metadata": {
            "tags": [],
            "needs_background": "light"
          }
        }
      ]
    },
    {
      "cell_type": "code",
      "metadata": {
        "id": "rd-T1GNnIMUn",
        "colab": {
          "base_uri": "https://localhost:8080/",
          "height": 314
        },
        "outputId": "953c6cfe-cf4a-4ca8-88df-486815c88f5f"
      },
      "source": [
        "# Visualization of time people spend in reflection, meditation etc.\n",
        "print(\"BAR PLOT OF DAILY_MEDITATION:\\n\")\n",
        "r = sns.countplot(x='DAILY_MEDITATION',data=df,palette='cividis')"
      ],
      "execution_count": null,
      "outputs": [
        {
          "output_type": "stream",
          "text": [
            "BAR PLOT OF DAILY_MEDITATION:\n",
            "\n"
          ],
          "name": "stdout"
        },
        {
          "output_type": "display_data",
          "data": {
            "image/png": "[encoded data removed]",
            "text/plain": [
              "<Figure size 432x288 with 1 Axes>"
            ]
          },
          "metadata": {
            "tags": [],
            "needs_background": "light"
          }
        }
      ]
    },
    {
      "cell_type": "code",
      "metadata": {
        "id": "8ALz8PdMxd9r",
        "colab": {
          "base_uri": "https://localhost:8080/",
          "height": 314
        },
        "outputId": "a28c434d-8483-43b7-ed4a-a89794ef4c09"
      },
      "source": [
        "# Visualization of hours people sleep daily\n",
        "print(\"BAR PLOT OF SLEEP HOURS:\\n\")\n",
        "x = sns.countplot(x='SLEEP_HOURS',data=df,palette='cool_r')"
      ],
      "execution_count": null,
      "outputs": [
        {
          "output_type": "stream",
          "text": [
            "BAR PLOT OF SLEEP HOURS:\n",
            "\n"
          ],
          "name": "stdout"
        },
        {
          "output_type": "display_data",
          "data": {
            "image/png": "[encoded data removed]",
            "text/plain": [
              "<Figure size 432x288 with 1 Axes>"
            ]
          },
          "metadata": {
            "tags": [],
            "needs_background": "light"
          }
        }
      ]
    },
    {
      "cell_type": "code",
      "metadata": {
        "id": "3HUCbzRpz65p",
        "colab": {
          "base_uri": "https://localhost:8080/",
          "height": 296
        },
        "outputId": "cb47168f-8bf2-4219-9181-86df471f37bf"
      },
      "source": [
        "# Visualization of day to day stress people experience.\n",
        "print(\"BAR PLOT OF DAILY STRESS\")\n",
        "y = sns.countplot(y='DAILY_STRESS',data=df,palette='hot_r')"
      ],
      "execution_count": null,
      "outputs": [
        {
          "output_type": "stream",
          "text": [
            "BAR PLOT OF DAILY STRESS\n"
          ],
          "name": "stdout"
        },
        {
          "output_type": "display_data",
          "data": {
            "image/png": "[encoded data removed]",
            "text/plain": [
              "<Figure size 432x288 with 1 Axes>"
            ]
          },
          "metadata": {
            "tags": [],
            "needs_background": "light"
          }
        }
      ]
    },
    {
      "cell_type": "code",
      "metadata": {
        "id": "AU7rZssM8IqF",
        "colab": {
          "base_uri": "https://localhost:8080/",
          "height": 313
        },
        "outputId": "7c3cc3e1-9e11-4327-b0b3-533c4584c62e"
      },
      "source": [
        "# Visualization of Body-Mass-Index range that people fall into\n",
        "print(\"BAR PLOT OF BMI_RANGE:\\n\")\n",
        "z = sns.countplot(y='BMI_RANGE',data=df)"
      ],
      "execution_count": null,
      "outputs": [
        {
          "output_type": "stream",
          "text": [
            "BAR PLOT OF BMI_RANGE:\n",
            "\n"
          ],
          "name": "stdout"
        },
        {
          "output_type": "display_data",
          "data": {
            "image/png": "[encoded data removed]",
            "text/plain": [
              "<Figure size 432x288 with 1 Axes>"
            ]
          },
          "metadata": {
            "tags": [],
            "needs_background": "light"
          }
        }
      ]
    },
    {
      "cell_type": "code",
      "metadata": {
        "id": "npJMHLlLGKge",
        "colab": {
          "base_uri": "https://localhost:8080/",
          "height": 318
        },
        "outputId": "279d099e-e975-43ef-bd9a-32f1a0c31ab6"
      },
      "source": [
        "# BMI_RANGE with FRUITS_VEGGIES\n",
        "print(\"BMI WITH FRUITS & VEGETABLES INTAKE SEGREGATED BY GENDER:\\n\")\n",
        "a = (sns.pointplot(x='BMI_RANGE',y='FRUITS_VEGGIES',\n",
        "                    hue='GENDER',data=df))\n",
        "a.set(ylim=(0,5))\n",
        "plt.show()"
      ],
      "execution_count": null,
      "outputs": [
        {
          "output_type": "stream",
          "text": [
            "BMI WITH FRUITS & VEGETABLES INTAKE SEGREGATED BY GENDER:\n",
            "\n"
          ],
          "name": "stdout"
        },
        {
          "output_type": "display_data",
          "data": {
            "image/png": "[encoded data removed]",
            "text/plain": [
              "<Figure size 432x288 with 1 Axes>"
            ]
          },
          "metadata": {
            "tags": [],
            "needs_background": "light"
          }
        }
      ]
    },
    {
      "cell_type": "markdown",
      "metadata": {
        "id": "pP8EkGJZJpYt"
      },
      "source": [
        "As can be seen above, people who eat more fruits and veggies have lower BMI. Although the difference seems negligible."
      ]
    },
    {
      "cell_type": "code",
      "metadata": {
        "id": "VQ2VTvUfLYUM",
        "colab": {
          "base_uri": "https://localhost:8080/",
          "height": 318
        },
        "outputId": "09c4586e-6ac5-4154-d376-e23dab5c18e7"
      },
      "source": [
        "# BMI_RANGE with DAILY_STEPS\n",
        "print(\"BMI WITH DAILY STEPS SEGREGATED BY GENDER:\\n\")\n",
        "b = (sns.pointplot(x='BMI_RANGE',y='DAILY_STEPS',data=df,\n",
        "               hue='GENDER',colour='red',palette='cool'))\n",
        "b.set(ylim=(0,10))\n",
        "plt.ylabel('DAILY STEPS (1 = 100 steps')\n",
        "plt.show()"
      ],
      "execution_count": null,
      "outputs": [
        {
          "output_type": "stream",
          "text": [
            "BMI WITH DAILY STEPS SEGREGATED BY GENDER:\n",
            "\n"
          ],
          "name": "stdout"
        },
        {
          "output_type": "display_data",
          "data": {
            "image/png": "[encoded data removed]",
            "text/plain": [
              "<Figure size 432x288 with 1 Axes>"
            ]
          },
          "metadata": {
            "tags": [],
            "needs_background": "light"
          }
        }
      ]
    },
    {
      "cell_type": "markdown",
      "metadata": {
        "id": "PQijkgSlZCbB"
      },
      "source": [
        "As can be seen above, both men and women have lower BMI when they take more steps daily. Although the difference is about 100 steps, which is a  small difference."
      ]
    },
    {
      "cell_type": "code",
      "metadata": {
        "id": "yLQPoaKMZT9d",
        "colab": {
          "base_uri": "https://localhost:8080/",
          "height": 412
        },
        "outputId": "38b9bf8c-e7e6-4a4a-91d4-4ffad2009487"
      },
      "source": [
        "# DAILY_STRESS with DAILY_MEDITATION\n",
        "print(\"CORRELATION b/w DAILY STRESS & DAILY MEDITATION:\\n\")\n",
        "c = sns.lineplot(x='DAILY_STRESS',y='DAILY_MEDITATION',data=df)\n",
        "c.set(xlim=(0,5))\n",
        "c.set(ylim=(0,10))\n",
        "plt.show()\n",
        "df1 = df.loc[:,('DAILY_STRESS','DAILY_MEDITATION')]\n",
        "df1.corr(method='pearson')"
      ],
      "execution_count": null,
      "outputs": [
        {
          "output_type": "stream",
          "text": [
            "CORRELATION b/w DAILY STRESS & DAILY MEDITATION:\n",
            "\n"
          ],
          "name": "stdout"
        },
        {
          "output_type": "display_data",
          "data": {
            "image/png": "[encoded data removed]",
            "text/plain": [
              "<Figure size 432x288 with 1 Axes>"
            ]
          },
          "metadata": {
            "tags": [],
            "needs_background": "light"
          }
        },
        {
          "output_type": "execute_result",
          "data": {
            "text/html": [
              "<div>\n",
              "<style scoped>\n",
              "    .dataframe tbody tr th:only-of-type {\n",
              "        vertical-align: middle;\n",
              "    }\n",
              "\n",
              "    .dataframe tbody tr th {\n",
              "        vertical-align: top;\n",
              "    }\n",
              "\n",
              "    .dataframe thead th {\n",
              "        text-align: right;\n",
              "    }\n",
              "</style>\n",
              "<table border=\"1\" class=\"dataframe\">\n",
              "  <thead>\n",
              "    <tr style=\"text-align: right;\">\n",
              "      <th></th>\n",
              "      <th>DAILY_STRESS</th>\n",
              "      <th>DAILY_MEDITATION</th>\n",
              "    </tr>\n",
              "  </thead>\n",
              "  <tbody>\n",
              "    <tr>\n",
              "      <th>DAILY_STRESS</th>\n",
              "      <td>1.000000</td>\n",
              "      <td>-0.214701</td>\n",
              "    </tr>\n",
              "    <tr>\n",
              "      <th>DAILY_MEDITATION</th>\n",
              "      <td>-0.214701</td>\n",
              "      <td>1.000000</td>\n",
              "    </tr>\n",
              "  </tbody>\n",
              "</table>\n",
              "</div>"
            ],
            "text/plain": [
              "                  DAILY_STRESS  DAILY_MEDITATION\n",
              "DAILY_STRESS          1.000000         -0.214701\n",
              "DAILY_MEDITATION     -0.214701          1.000000"
            ]
          },
          "metadata": {
            "tags": []
          },
          "execution_count": 23
        }
      ]
    },
    {
      "cell_type": "markdown",
      "metadata": {
        "id": "utyNJcFgmEzf"
      },
      "source": [
        "As can be seen above, there is a moderate negative correlation of -21.47% between day to day experience of stress and time spend on reflections, meditation, etc."
      ]
    },
    {
      "cell_type": "code",
      "metadata": {
        "id": "I3b9nHa6_MHD",
        "colab": {
          "base_uri": "https://localhost:8080/",
          "height": 395
        },
        "outputId": "015dbd7a-783c-405c-c2dd-4e5c50c5a7c3"
      },
      "source": [
        "# DAILY_STRESS with SOCIAL_NETWORK\n",
        "print('CORRELATION b/w DAILY STRESS & SOCIAL NETWORK')\n",
        "d = sns.lineplot(x='DAILY_STRESS',y='SOCIAL_NETWORK',data=df)\n",
        "d.set(xlim=(0,5))\n",
        "d.set(ylim=(0,10))\n",
        "df2 = df.loc[:,('DAILY_STRESS','SOCIAL_NETWORK')]\n",
        "df2.corr(method='pearson')"
      ],
      "execution_count": null,
      "outputs": [
        {
          "output_type": "stream",
          "text": [
            "CORRELATION b/w DAILY STRESS & SOCIAL NETWORK\n"
          ],
          "name": "stdout"
        },
        {
          "output_type": "execute_result",
          "data": {
            "text/html": [
              "<div>\n",
              "<style scoped>\n",
              "    .dataframe tbody tr th:only-of-type {\n",
              "        vertical-align: middle;\n",
              "    }\n",
              "\n",
              "    .dataframe tbody tr th {\n",
              "        vertical-align: top;\n",
              "    }\n",
              "\n",
              "    .dataframe thead th {\n",
              "        text-align: right;\n",
              "    }\n",
              "</style>\n",
              "<table border=\"1\" class=\"dataframe\">\n",
              "  <thead>\n",
              "    <tr style=\"text-align: right;\">\n",
              "      <th></th>\n",
              "      <th>DAILY_STRESS</th>\n",
              "      <th>SOCIAL_NETWORK</th>\n",
              "    </tr>\n",
              "  </thead>\n",
              "  <tbody>\n",
              "    <tr>\n",
              "      <th>DAILY_STRESS</th>\n",
              "      <td>1.000000</td>\n",
              "      <td>0.012873</td>\n",
              "    </tr>\n",
              "    <tr>\n",
              "      <th>SOCIAL_NETWORK</th>\n",
              "      <td>0.012873</td>\n",
              "      <td>1.000000</td>\n",
              "    </tr>\n",
              "  </tbody>\n",
              "</table>\n",
              "</div>"
            ],
            "text/plain": [
              "                DAILY_STRESS  SOCIAL_NETWORK\n",
              "DAILY_STRESS        1.000000        0.012873\n",
              "SOCIAL_NETWORK      0.012873        1.000000"
            ]
          },
          "metadata": {
            "tags": []
          },
          "execution_count": 24
        },
        {
          "output_type": "display_data",
          "data": {
            "image/png": "[encoded data removed]",
            "text/plain": [
              "<Figure size 432x288 with 1 Axes>"
            ]
          },
          "metadata": {
            "tags": [],
            "needs_background": "light"
          }
        }
      ]
    },
    {
      "cell_type": "markdown",
      "metadata": {
        "id": "dH-uhPzEnYxb"
      },
      "source": [
        "As can be seen above, there is virtually no correlation between day to day experience of stress and network of close relationships."
      ]
    },
    {
      "cell_type": "code",
      "metadata": {
        "id": "YilU5j1LK8-C",
        "colab": {
          "base_uri": "https://localhost:8080/",
          "height": 378
        },
        "outputId": "b082d001-ddb7-4a5c-dc0a-2e7cb6ee3d70"
      },
      "source": [
        "# DAILY_STRESS with SLEEP_HOURS\n",
        "e = sns.lineplot(x='DAILY_STRESS',y='SLEEP_HOURS',data=df)\n",
        "e.set(ylim=(0,10))\n",
        "df3 = df.loc[:,('DAILY_STRESS','SLEEP_HOURS')]\n",
        "df3.corr(method='pearson')"
      ],
      "execution_count": null,
      "outputs": [
        {
          "output_type": "execute_result",
          "data": {
            "text/html": [
              "<div>\n",
              "<style scoped>\n",
              "    .dataframe tbody tr th:only-of-type {\n",
              "        vertical-align: middle;\n",
              "    }\n",
              "\n",
              "    .dataframe tbody tr th {\n",
              "        vertical-align: top;\n",
              "    }\n",
              "\n",
              "    .dataframe thead th {\n",
              "        text-align: right;\n",
              "    }\n",
              "</style>\n",
              "<table border=\"1\" class=\"dataframe\">\n",
              "  <thead>\n",
              "    <tr style=\"text-align: right;\">\n",
              "      <th></th>\n",
              "      <th>DAILY_STRESS</th>\n",
              "      <th>SLEEP_HOURS</th>\n",
              "    </tr>\n",
              "  </thead>\n",
              "  <tbody>\n",
              "    <tr>\n",
              "      <th>DAILY_STRESS</th>\n",
              "      <td>1.000000</td>\n",
              "      <td>-0.152615</td>\n",
              "    </tr>\n",
              "    <tr>\n",
              "      <th>SLEEP_HOURS</th>\n",
              "      <td>-0.152615</td>\n",
              "      <td>1.000000</td>\n",
              "    </tr>\n",
              "  </tbody>\n",
              "</table>\n",
              "</div>"
            ],
            "text/plain": [
              "              DAILY_STRESS  SLEEP_HOURS\n",
              "DAILY_STRESS      1.000000    -0.152615\n",
              "SLEEP_HOURS      -0.152615     1.000000"
            ]
          },
          "metadata": {
            "tags": []
          },
          "execution_count": 25
        },
        {
          "output_type": "display_data",
          "data": {
            "image/png": "[encoded data removed]",
            "text/plain": [
              "<Figure size 432x288 with 1 Axes>"
            ]
          },
          "metadata": {
            "tags": [],
            "needs_background": "light"
          }
        }
      ]
    },
    {
      "cell_type": "markdown",
      "metadata": {
        "id": "lQE6u7eWpptp"
      },
      "source": [
        "As can be seen above, there is a small negative correlation of -15.26% between day to day experience of stress and daily sleeping hours."
      ]
    },
    {
      "cell_type": "code",
      "metadata": {
        "id": "zlH8rUCfCYg3",
        "colab": {
          "base_uri": "https://localhost:8080/",
          "height": 318
        },
        "outputId": "17576788-84f1-45ac-c077-38be44bde562"
      },
      "source": [
        "# SUFFICIENT_INCOME with TIME_FOR_PASSION\n",
        "print('INCOME AND TIME SPEND FOLLOWING PASSION:\\n')\n",
        "f = (sns.pointplot(x='SUFFICIENT_INCOME',y='TIME_FOR_PASSION',\n",
        "                   hue='GENDER',data=df))\n",
        "f.set(ylim=(0,10))\n",
        "plt.show()"
      ],
      "execution_count": null,
      "outputs": [
        {
          "output_type": "stream",
          "text": [
            "INCOME AND TIME SPEND FOLLOWING PASSION:\n",
            "\n"
          ],
          "name": "stdout"
        },
        {
          "output_type": "display_data",
          "data": {
            "image/png": "[encoded data removed]",
            "text/plain": [
              "<Figure size 432x288 with 1 Axes>"
            ]
          },
          "metadata": {
            "tags": [],
            "needs_background": "light"
          }
        }
      ]
    },
    {
      "cell_type": "markdown",
      "metadata": {
        "id": "LV_8qJvptzbZ"
      },
      "source": [
        "As can be seen above, people who have sufficient income, also get to have more time for following passion. But here again the difference seems very small to be of any interest."
      ]
    },
    {
      "cell_type": "markdown",
      "metadata": {
        "id": "N23ybZIxyVuJ"
      },
      "source": [
        "**CONCLUSION**\n",
        "\n",
        "---\n",
        "\n"
      ]
    },
    {
      "cell_type": "markdown",
      "metadata": {
        "id": "6LMF4S6YrsCg"
      },
      "source": [
        "*    People who eat more fruits and veggies have lower BMI, but the difference is negligible.\n",
        "*    People have lower BMI when they take more steps daily, but the difference is about 100 steps, which is small.\n",
        "*   There is a moderate negative correlation of -21.47% between day to day experience of stress and time spend on reflections, meditation, etc.\n",
        "*   There is virtually no correlation between day to day experience of stress and network of close relationships.\n",
        "*    There is a small negative correlation of -15.26% between day to day experience of stress and daily sleeping hours.\n",
        "*   People who have sufficient income, also get to have more time for following passion. But difference seems very small to be of any interest.\n",
        "\n",
        "\n",
        "\n",
        "\n",
        "\n",
        "\n",
        "\n",
        "\n"
      ]
    }
  ]
}